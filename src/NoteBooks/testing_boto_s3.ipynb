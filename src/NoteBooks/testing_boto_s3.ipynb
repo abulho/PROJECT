{
 "cells": [
  {
   "cell_type": "code",
   "execution_count": 14,
   "metadata": {},
   "outputs": [],
   "source": [
    "import boto3\n",
    "\n",
    "# Create an S3 client\n",
    "s3 = boto3.client('s3')\n",
    "def get_chart_object(s3_client, Bucket, Key):\n",
    "    \"\"\"returns chart object from specified s3 bucket and key\"\"\"\n",
    "    chart_object = s3_client.get_object(Bucket = Bucket,\n",
    "                                        Key = Key)\n",
    "    return chart_object\n",
    "\n",
    "def read_chart_from_object (chart_object):\n",
    "    chart_txt = chart_object['Body'].read()\n",
    "    return chart_txt\n",
    "\n",
    "def upload_to_s3(filename_out, bucket_name, filename_in):\n",
    "    s3.upload_file(filename_out, bucket_name, filename_in)\n",
    "\n",
    "\n",
    "filename_out = 's3_testing.txt'\n",
    "filename_in  = 's3_testing.txt'\n",
    "bucket_name  = 'surfmain'"
   ]
  },
  {
   "cell_type": "code",
   "execution_count": 15,
   "metadata": {},
   "outputs": [],
   "source": [
    "upload_to_s3(filename_out, bucket_name, filename_in)"
   ]
  },
  {
   "cell_type": "code",
   "execution_count": 16,
   "metadata": {},
   "outputs": [
    {
     "data": {
      "text/plain": [
       "'/Users/abdulla/Desktop/PROJECT/src'"
      ]
     },
     "execution_count": 16,
     "metadata": {},
     "output_type": "execute_result"
    }
   ],
   "source": [
    "pwd"
   ]
  },
  {
   "cell_type": "code",
   "execution_count": 22,
   "metadata": {},
   "outputs": [
    {
     "data": {
      "text/plain": [
       "b'This is a test\\n'"
      ]
     },
     "execution_count": 22,
     "metadata": {},
     "output_type": "execute_result"
    }
   ],
   "source": [
    "things = get_chart_object(s3, bucket_name, filename_in)\n",
    "things['Body'].read()"
   ]
  },
  {
   "cell_type": "code",
   "execution_count": null,
   "metadata": {
    "collapsed": true
   },
   "outputs": [],
   "source": []
  },
  {
   "cell_type": "code",
   "execution_count": null,
   "metadata": {
    "collapsed": true
   },
   "outputs": [],
   "source": []
  },
  {
   "cell_type": "code",
   "execution_count": null,
   "metadata": {
    "collapsed": true
   },
   "outputs": [],
   "source": []
  }
 ],
 "metadata": {
  "kernelspec": {
   "display_name": "Python 3",
   "language": "python",
   "name": "python3"
  },
  "language_info": {
   "codemirror_mode": {
    "name": "ipython",
    "version": 3
   },
   "file_extension": ".py",
   "mimetype": "text/x-python",
   "name": "python",
   "nbconvert_exporter": "python",
   "pygments_lexer": "ipython3",
   "version": "3.6.3"
  }
 },
 "nbformat": 4,
 "nbformat_minor": 2
}
