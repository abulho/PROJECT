{
 "cells": [
  {
   "cell_type": "code",
   "execution_count": 2,
   "metadata": {},
   "outputs": [],
   "source": [
    "#Importing required Python packages\n",
    "import matplotlib.pylab as plt\n",
    "import numpy as np\n",
    "from sklearn import metrics\n",
    "from sklearn.learning_curve import learning_curve\n",
    "from sklearn.linear_model import LinearRegression\n",
    "from sklearn.ensemble import GradientBoostingRegressor\n",
    "import pandas as pd\n",
    "import seaborn as sns\n",
    "import pickle\n",
    "from sklearn.metrics import mean_squared_error, r2_score\n",
    "from get_train_test_for_modeling import *\n",
    "plt.style.use('ggplot')\n",
    "\n",
    "%matplotlib inline"
   ]
  },
  {
   "cell_type": "code",
   "execution_count": null,
   "metadata": {
    "collapsed": true
   },
   "outputs": [],
   "source": [
    "filename = '../data/data_X_y_46059_train_w_tide.csv'\n",
    "Xy_df = get_Xy_data(filename)\n",
    "\n",
    "cols_to_keep = ['YY_x', 'MM_x', 'DD_x', 'hh_x', 'WD_x', 'WSPD_x',\n",
    "                'GST_x', 'WVHT_x', 'DPD_x', 'APD_x', 'MWD_x', 'BAR_x', 'ATMP_x',\n",
    "                'WTMP_x', 'DEWP_x', 'ID_x', 't_arrive', 'WVHT_y']\n",
    "\n",
    "train_yrs = [1995, 1996, 1997, 1998, 1999, 2000, 2003, 2004, 2006, 2007]\n",
    "test_yrs  = [2008]\n",
    "\n",
    "X_train, X_test, y_train, y_test = get_train_test(Xy_df, cols_to_keep, train_yrs, test_yrs)"
   ]
  },
  {
   "cell_type": "markdown",
   "metadata": {},
   "source": [
    "## functions to get the model fit and pickled"
   ]
  },
  {
   "cell_type": "code",
   "execution_count": null,
   "metadata": {
    "collapsed": true
   },
   "outputs": [],
   "source": [
    "def model(X_train, y_train):\n",
    "    \n",
    "    '''\n",
    "    This function take in X and y for training\n",
    "    and will fit a gradient boosted regressor model \n",
    "    and return the model\n",
    "    \n",
    "    input:\n",
    "    X_train, y_train\n",
    "    \n",
    "    output:\n",
    "    gradient boosted regressor model that is fit\n",
    "    \n",
    "    '''\n",
    "    n_estimators = 20000\n",
    "    params = {'n_estimators': n_estimators, 'max_depth': 5, 'min_samples_split': 4,\n",
    "          'learning_rate': 0.0001, 'loss': 'ls'}\n",
    "    gbr = GradientBoostingRegressor(**params)\n",
    "    gbr.fit(X_train, y_train.ravel())\n",
    "    \n",
    "    return gbr\n",
    "\n",
    "\n",
    "def pickle_model(model, filename_to_save):\n",
    "    '''\n",
    "    this function will take in a fitted model and save pickle model \n",
    "    to the directory\n",
    "    \n",
    "    input:\n",
    "    fitted model\n",
    "    \n",
    "    output:\n",
    "    pickle model\n",
    "    \n",
    "    '''\n",
    "    with open(filename_to_save, 'wb') as f:\n",
    "       # Write the model to a file.\n",
    "       pickle.dump(model, f)\n",
    "\n",
    "def get_X_y_for_hr(hour):\n",
    "    '''\n",
    "    take in the hour to make the train and test data for\n",
    "     \n",
    "    input: \n",
    "    should be on of the following:\n",
    "    'hr', '24hr', '48hr', '72hr', '96hr', '120hr', '144hr'\n",
    "    \n",
    "    output:\n",
    "    the corresponding train and test data for the hour that was input\n",
    "    '''\n",
    "    filename = 'data_X_y_46059_' + hour\n",
    "    Xy_df = get_Xy_data(filename)\n",
    "    \n",
    "    cols_to_keep = ['YY_x', 'MM_x', 'DD_x', 'hh_x', 'WD_x', 'WSPD_x',\n",
    "                'GST_x', 'WVHT_x', 'DPD_x', 'APD_x', 'MWD_x', 'BAR_x', 'ATMP_x',\n",
    "                'WTMP_x', 'DEWP_x', 'ID_x', 't_arrive', 'WVHT_y']\n",
    "\n",
    "    train_yrs = [1995, 1996, 1997, 1998, 1999, 2000, 2003, 2004, 2006, 2007]\n",
    "    test_yrs  = [2008]\n",
    "\n",
    "    X_train, X_test, y_train, y_test = get_train_test(Xy_df, cols_to_keep, train_yrs, test_yrs)\n",
    "    \n",
    "    return X_train, X_test, y_train, y_test    "
   ]
  },
  {
   "cell_type": "markdown",
   "metadata": {},
   "source": [
    "## functions to unpickle the model and make predictions"
   ]
  },
  {
   "cell_type": "code",
   "execution_count": 26,
   "metadata": {
    "collapsed": true
   },
   "outputs": [],
   "source": [
    "def unpickle_model(pickle_model_name):\n",
    "    '''\n",
    "    take in the pickle model and return the unpickle version of it\n",
    "    \n",
    "    input:\n",
    "    pickle model \n",
    "    \n",
    "    output:\n",
    "    unpickle model\n",
    "    \n",
    "    '''\n",
    "    with open(pickle_model_name, 'rb') as f:\n",
    "        model = pickle.load(f)\n",
    "    return model"
   ]
  },
  {
   "cell_type": "code",
   "execution_count": 81,
   "metadata": {
    "scrolled": true
   },
   "outputs": [],
   "source": [
    "from get_prediction_data import *\n",
    "\n",
    "buoyID = 46059\n",
    "get_prediction_data(buoyID)\n",
    "prediction_df = clean_prediction_data('../data/data_for_prediction_{}.csv'.format(buoyID))\n",
    "prediction_df = adding_speed_col(prediction_df, 650)\n",
    "prediction_df = add_time_delta(prediction_df)\n",
    "prediction_df = add_time_y(prediction_df)\n",
    "prediction_df = round_time_y(prediction_df)\n",
    "prediction_df.to_csv('../data/prediction_df.csv')\n",
    "\n",
    "prediction_df['ID'] = 46059\n",
    "\n",
    "cols_to_keep = ['YY', 'MM', 'DD', 'hh', 'WDIR', 'WSPD', 'GST', 'WVHT', 'DPD',\n",
    "                'APD','MWD', 'PRES', 'ATMP', 'WTMP', 'DEWP', 'ID', 't_arrive']\n",
    "\n",
    "predict_hrs = [hr for hr in range(24,166,24)]\n",
    "for hr in predict_hrs:\n",
    "    prediction_df['time_delta_{}'.format(str(hr))] = prediction_df['t_arrive'].apply(lambda x: datetime.timedelta((x+hr)/24))\n",
    "    prediction_df['time_y_{}'.format(str(hr))] = prediction_df.index + prediction_df['time_delta_{}'.format(hr)]\n",
    "    prediction_df['time_y_hr_{}'.format(hr)]  = prediction_df['time_y_{}'.format(hr)].apply(lambda dt: datetime.datetime(dt.year,\n",
    "                                                                                             dt.month,\n",
    "                                                                                             dt.day,\n",
    "                                                                                             dt.hour,\n",
    "                                                                                             0,0))\n",
    "X_real_time_predictions = prediction_df[cols_to_keep].values\n",
    "\n",
    "pkl_lst = ['gbr_hr.pkl','gbr_24hr.pkl']#,'gbr_48hr.pkl','gbr_72hr.pkl',\n",
    "           #'gbr_96hr.pkl','gbr_120hr.pkl', 'gbr_144hr.pkl']\n",
    "\n",
    "datecol = ['hr', 'hr_24']#, 'hr_48', 'hr_72', 'hr_96', 'hr_120', 'hr_144']\n",
    "df_lst_7day_pred = []\n",
    "for i, model in enumerate(pkl_lst):\n",
    "    \n",
    "    date_col = 'time_y_' + datecol[i]\n",
    "    \n",
    "    gbr = unpickle_model(model)\n",
    "    y_hat = gbr.predict(X_real_time_predictions)\n",
    "    \n",
    "    df = prediction_df[[date_col]]\n",
    "    df['yhat'] = y_hat\n",
    "    df['offshore_date'] = df.index\n",
    "    df.index = df[date_col]\n",
    "    df_lst_7day_pred.append(df)\n",
    "\n",
    "df_7day_pred = pd.concat(df_lst_7day_pred, axis=0)\n",
    "df_7day_pred.to_csv('predictions_7days.csv')"
   ]
  },
  {
   "cell_type": "code",
   "execution_count": 78,
   "metadata": {},
   "outputs": [
    {
     "data": {
      "text/html": [
       "<div>\n",
       "<style scoped>\n",
       "    .dataframe tbody tr th:only-of-type {\n",
       "        vertical-align: middle;\n",
       "    }\n",
       "\n",
       "    .dataframe tbody tr th {\n",
       "        vertical-align: top;\n",
       "    }\n",
       "\n",
       "    .dataframe thead th {\n",
       "        text-align: right;\n",
       "    }\n",
       "</style>\n",
       "<table border=\"1\" class=\"dataframe\">\n",
       "  <thead>\n",
       "    <tr style=\"text-align: right;\">\n",
       "      <th></th>\n",
       "      <th>YY</th>\n",
       "      <th>MM</th>\n",
       "      <th>DD</th>\n",
       "      <th>hh</th>\n",
       "      <th>mm</th>\n",
       "      <th>WDIR</th>\n",
       "      <th>WSPD</th>\n",
       "      <th>GST</th>\n",
       "      <th>WVHT</th>\n",
       "      <th>DPD</th>\n",
       "      <th>...</th>\n",
       "      <th>time_y_hr_72</th>\n",
       "      <th>time_delta_96</th>\n",
       "      <th>time_y_96</th>\n",
       "      <th>time_y_hr_96</th>\n",
       "      <th>time_delta_120</th>\n",
       "      <th>time_y_120</th>\n",
       "      <th>time_y_hr_120</th>\n",
       "      <th>time_delta_144</th>\n",
       "      <th>time_y_144</th>\n",
       "      <th>time_y_hr_144</th>\n",
       "    </tr>\n",
       "    <tr>\n",
       "      <th>Date</th>\n",
       "      <th></th>\n",
       "      <th></th>\n",
       "      <th></th>\n",
       "      <th></th>\n",
       "      <th></th>\n",
       "      <th></th>\n",
       "      <th></th>\n",
       "      <th></th>\n",
       "      <th></th>\n",
       "      <th></th>\n",
       "      <th></th>\n",
       "      <th></th>\n",
       "      <th></th>\n",
       "      <th></th>\n",
       "      <th></th>\n",
       "      <th></th>\n",
       "      <th></th>\n",
       "      <th></th>\n",
       "      <th></th>\n",
       "      <th></th>\n",
       "      <th></th>\n",
       "    </tr>\n",
       "  </thead>\n",
       "  <tbody>\n",
       "    <tr>\n",
       "      <th>2018-02-04 11:00:00</th>\n",
       "      <td>2018</td>\n",
       "      <td>2</td>\n",
       "      <td>4</td>\n",
       "      <td>11</td>\n",
       "      <td>10</td>\n",
       "      <td>10.0</td>\n",
       "      <td>6.0</td>\n",
       "      <td>8.0</td>\n",
       "      <td>1.7</td>\n",
       "      <td>13.0</td>\n",
       "      <td>...</td>\n",
       "      <td>2018-02-08 05:00:00</td>\n",
       "      <td>4 days 18:39:07.914400</td>\n",
       "      <td>2018-02-09 05:39:07.914400</td>\n",
       "      <td>2018-02-09 05:00:00</td>\n",
       "      <td>5 days 18:39:07.914400</td>\n",
       "      <td>2018-02-10 05:39:07.914400</td>\n",
       "      <td>2018-02-10 05:00:00</td>\n",
       "      <td>6 days 18:39:07.914400</td>\n",
       "      <td>2018-02-11 05:39:07.914400</td>\n",
       "      <td>2018-02-11 05:00:00</td>\n",
       "    </tr>\n",
       "    <tr>\n",
       "      <th>2018-02-04 11:00:00</th>\n",
       "      <td>2018</td>\n",
       "      <td>2</td>\n",
       "      <td>4</td>\n",
       "      <td>11</td>\n",
       "      <td>0</td>\n",
       "      <td>10.0</td>\n",
       "      <td>6.0</td>\n",
       "      <td>7.0</td>\n",
       "      <td>1.7</td>\n",
       "      <td>13.0</td>\n",
       "      <td>...</td>\n",
       "      <td>2018-02-08 05:00:00</td>\n",
       "      <td>4 days 18:39:07.914400</td>\n",
       "      <td>2018-02-09 05:39:07.914400</td>\n",
       "      <td>2018-02-09 05:00:00</td>\n",
       "      <td>5 days 18:39:07.914400</td>\n",
       "      <td>2018-02-10 05:39:07.914400</td>\n",
       "      <td>2018-02-10 05:00:00</td>\n",
       "      <td>6 days 18:39:07.914400</td>\n",
       "      <td>2018-02-11 05:39:07.914400</td>\n",
       "      <td>2018-02-11 05:00:00</td>\n",
       "    </tr>\n",
       "  </tbody>\n",
       "</table>\n",
       "<p>2 rows × 44 columns</p>\n",
       "</div>"
      ],
      "text/plain": [
       "                       YY  MM  DD  hh  mm  WDIR  WSPD  GST  WVHT   DPD  \\\n",
       "Date                                                                     \n",
       "2018-02-04 11:00:00  2018   2   4  11  10  10.0   6.0  8.0   1.7  13.0   \n",
       "2018-02-04 11:00:00  2018   2   4  11   0  10.0   6.0  7.0   1.7  13.0   \n",
       "\n",
       "                            ...                time_y_hr_72  \\\n",
       "Date                        ...                               \n",
       "2018-02-04 11:00:00         ...         2018-02-08 05:00:00   \n",
       "2018-02-04 11:00:00         ...         2018-02-08 05:00:00   \n",
       "\n",
       "                             time_delta_96                  time_y_96  \\\n",
       "Date                                                                    \n",
       "2018-02-04 11:00:00 4 days 18:39:07.914400 2018-02-09 05:39:07.914400   \n",
       "2018-02-04 11:00:00 4 days 18:39:07.914400 2018-02-09 05:39:07.914400   \n",
       "\n",
       "                           time_y_hr_96         time_delta_120  \\\n",
       "Date                                                             \n",
       "2018-02-04 11:00:00 2018-02-09 05:00:00 5 days 18:39:07.914400   \n",
       "2018-02-04 11:00:00 2018-02-09 05:00:00 5 days 18:39:07.914400   \n",
       "\n",
       "                                    time_y_120       time_y_hr_120  \\\n",
       "Date                                                                 \n",
       "2018-02-04 11:00:00 2018-02-10 05:39:07.914400 2018-02-10 05:00:00   \n",
       "2018-02-04 11:00:00 2018-02-10 05:39:07.914400 2018-02-10 05:00:00   \n",
       "\n",
       "                            time_delta_144                 time_y_144  \\\n",
       "Date                                                                    \n",
       "2018-02-04 11:00:00 6 days 18:39:07.914400 2018-02-11 05:39:07.914400   \n",
       "2018-02-04 11:00:00 6 days 18:39:07.914400 2018-02-11 05:39:07.914400   \n",
       "\n",
       "                          time_y_hr_144  \n",
       "Date                                     \n",
       "2018-02-04 11:00:00 2018-02-11 05:00:00  \n",
       "2018-02-04 11:00:00 2018-02-11 05:00:00  \n",
       "\n",
       "[2 rows x 44 columns]"
      ]
     },
     "execution_count": 78,
     "metadata": {},
     "output_type": "execute_result"
    }
   ],
   "source": [
    "prediction_df.head(2)"
   ]
  },
  {
   "cell_type": "code",
   "execution_count": 32,
   "metadata": {},
   "outputs": [],
   "source": [
    "gbr_hr = unpickle_model('gbr_hr.pkl')\n",
    "gbr_24hr = unpickle_model('gbr_24hr.pkl')"
   ]
  },
  {
   "cell_type": "code",
   "execution_count": null,
   "metadata": {
    "collapsed": true
   },
   "outputs": [],
   "source": [
    "y_hat_hr = gbr_hr.predict(X_real_time_predictions )\n",
    "y_hat_24hr = gbr_24hr.predict(X_real_time_predictions )"
   ]
  },
  {
   "cell_type": "code",
   "execution_count": 65,
   "metadata": {},
   "outputs": [],
   "source": [
    "df_hr = prediction_df[['time_y_hr']]\n",
    "df_hr['yhat'] = y_hat_hr\n",
    "df_hr['offshore_date'] = df_hr.index\n",
    "df_hr.index = df_hr['time_y_hr']\n",
    "\n",
    "df_24hr = prediction_df[['time_y_hr_24']]\n",
    "df_24hr['yhat'] = y_hat_24hr\n",
    "df_24hr['offshore_date'] = df_24hr.index\n",
    "df_24hr.index = df_24hr['time_y_hr_24']"
   ]
  },
  {
   "cell_type": "code",
   "execution_count": 80,
   "metadata": {},
   "outputs": [
    {
     "data": {
      "text/html": [
       "<div>\n",
       "<style scoped>\n",
       "    .dataframe tbody tr th:only-of-type {\n",
       "        vertical-align: middle;\n",
       "    }\n",
       "\n",
       "    .dataframe tbody tr th {\n",
       "        vertical-align: top;\n",
       "    }\n",
       "\n",
       "    .dataframe thead th {\n",
       "        text-align: right;\n",
       "    }\n",
       "</style>\n",
       "<table border=\"1\" class=\"dataframe\">\n",
       "  <thead>\n",
       "    <tr style=\"text-align: right;\">\n",
       "      <th></th>\n",
       "      <th>time_y_hr_24</th>\n",
       "      <th>yhat</th>\n",
       "      <th>offshore_date</th>\n",
       "    </tr>\n",
       "    <tr>\n",
       "      <th>time_y_hr_24</th>\n",
       "      <th></th>\n",
       "      <th></th>\n",
       "      <th></th>\n",
       "    </tr>\n",
       "  </thead>\n",
       "  <tbody>\n",
       "    <tr>\n",
       "      <th>2018-02-06 05:00:00</th>\n",
       "      <td>2018-02-06 05:00:00</td>\n",
       "      <td>1.931303</td>\n",
       "      <td>2018-02-04 11:00:00</td>\n",
       "    </tr>\n",
       "    <tr>\n",
       "      <th>2018-02-06 05:00:00</th>\n",
       "      <td>2018-02-06 05:00:00</td>\n",
       "      <td>1.931303</td>\n",
       "      <td>2018-02-04 11:00:00</td>\n",
       "    </tr>\n",
       "    <tr>\n",
       "      <th>2018-02-06 04:00:00</th>\n",
       "      <td>2018-02-06 04:00:00</td>\n",
       "      <td>1.931303</td>\n",
       "      <td>2018-02-04 10:00:00</td>\n",
       "    </tr>\n",
       "    <tr>\n",
       "      <th>2018-02-06 04:00:00</th>\n",
       "      <td>2018-02-06 04:00:00</td>\n",
       "      <td>1.931303</td>\n",
       "      <td>2018-02-04 10:00:00</td>\n",
       "    </tr>\n",
       "    <tr>\n",
       "      <th>2018-02-06 05:00:00</th>\n",
       "      <td>2018-02-06 05:00:00</td>\n",
       "      <td>1.931303</td>\n",
       "      <td>2018-02-04 10:00:00</td>\n",
       "    </tr>\n",
       "  </tbody>\n",
       "</table>\n",
       "</div>"
      ],
      "text/plain": [
       "                           time_y_hr_24      yhat       offshore_date\n",
       "time_y_hr_24                                                         \n",
       "2018-02-06 05:00:00 2018-02-06 05:00:00  1.931303 2018-02-04 11:00:00\n",
       "2018-02-06 05:00:00 2018-02-06 05:00:00  1.931303 2018-02-04 11:00:00\n",
       "2018-02-06 04:00:00 2018-02-06 04:00:00  1.931303 2018-02-04 10:00:00\n",
       "2018-02-06 04:00:00 2018-02-06 04:00:00  1.931303 2018-02-04 10:00:00\n",
       "2018-02-06 05:00:00 2018-02-06 05:00:00  1.931303 2018-02-04 10:00:00"
      ]
     },
     "execution_count": 80,
     "metadata": {},
     "output_type": "execute_result"
    }
   ],
   "source": [
    "df_24hr.head()"
   ]
  },
  {
   "cell_type": "code",
   "execution_count": 69,
   "metadata": {},
   "outputs": [
    {
     "data": {
      "text/plain": [
       "<matplotlib.axes._subplots.AxesSubplot at 0x11b5fb630>"
      ]
     },
     "execution_count": 69,
     "metadata": {},
     "output_type": "execute_result"
    },
    {
     "data": {
      "image/png": "[encoded data removed]",
      "text/plain": [
       "<matplotlib.figure.Figure at 0x11aa026d8>"
      ]
     },
     "metadata": {},
     "output_type": "display_data"
    }
   ],
   "source": [
    "fig, ax = plt.subplots(figsize = (10,6))\n",
    "df_hr['yhat'].plot()\n",
    "df_24hr['yhat'].plot()"
   ]
  },
  {
   "cell_type": "code",
   "execution_count": null,
   "metadata": {
    "collapsed": true
   },
   "outputs": [],
   "source": []
  },
  {
   "cell_type": "code",
   "execution_count": null,
   "metadata": {
    "collapsed": true
   },
   "outputs": [],
   "source": []
  },
  {
   "cell_type": "code",
   "execution_count": null,
   "metadata": {
    "collapsed": true
   },
   "outputs": [],
   "source": []
  },
  {
   "cell_type": "code",
   "execution_count": null,
   "metadata": {
    "collapsed": true
   },
   "outputs": [],
   "source": []
  },
  {
   "cell_type": "code",
   "execution_count": null,
   "metadata": {
    "collapsed": true
   },
   "outputs": [],
   "source": []
  },
  {
   "cell_type": "code",
   "execution_count": null,
   "metadata": {
    "collapsed": true
   },
   "outputs": [],
   "source": []
  },
  {
   "cell_type": "code",
   "execution_count": null,
   "metadata": {
    "collapsed": true
   },
   "outputs": [],
   "source": []
  },
  {
   "cell_type": "code",
   "execution_count": null,
   "metadata": {
    "collapsed": true
   },
   "outputs": [],
   "source": []
  },
  {
   "cell_type": "code",
   "execution_count": null,
   "metadata": {
    "collapsed": true
   },
   "outputs": [],
   "source": []
  },
  {
   "cell_type": "code",
   "execution_count": null,
   "metadata": {
    "collapsed": true
   },
   "outputs": [],
   "source": []
  },
  {
   "cell_type": "code",
   "execution_count": null,
   "metadata": {
    "collapsed": true
   },
   "outputs": [],
   "source": []
  }
 ],
 "metadata": {
  "kernelspec": {
   "display_name": "Python 3",
   "language": "python",
   "name": "python3"
  },
  "language_info": {
   "codemirror_mode": {
    "name": "ipython",
    "version": 3
   },
   "file_extension": ".py",
   "mimetype": "text/x-python",
   "name": "python",
   "nbconvert_exporter": "python",
   "pygments_lexer": "ipython3",
   "version": "3.6.3"
  }
 },
 "nbformat": 4,
 "nbformat_minor": 2
}
