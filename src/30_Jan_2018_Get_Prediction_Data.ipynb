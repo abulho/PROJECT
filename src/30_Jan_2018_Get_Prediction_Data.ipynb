{
 "cells": [
  {
   "cell_type": "code",
   "execution_count": 38,
   "metadata": {
    "collapsed": true
   },
   "outputs": [],
   "source": [
    "from get_prediction_data import *\n",
    "import pandas as pd\n",
    "import numpy as np\n",
    "import requests\n",
    "from datetime import datetime\n",
    "from pytz import timezone\n",
    "from format_train_test import *"
   ]
  },
  {
   "cell_type": "code",
   "execution_count": 40,
   "metadata": {},
   "outputs": [],
   "source": [
    "get_prediction_data(46059)"
   ]
  },
  {
   "cell_type": "code",
   "execution_count": 41,
   "metadata": {
    "collapsed": true
   },
   "outputs": [],
   "source": [
    "prediction_df = clean_prediction_data('../data/data_for_prediction.csv')\n",
    "prediction_df = adding_speed_col(prediction_df, 650)\n",
    "prediction_df = add_time_delta(prediction_df)\n",
    "prediction_df = add_time_y(prediction_df)\n",
    "prediction_df = round_time_y(prediction_df)"
   ]
  },
  {
   "cell_type": "code",
   "execution_count": 42,
   "metadata": {
    "collapsed": true
   },
   "outputs": [],
   "source": [
    "cols_to_keep = ['YY', 'MM', 'DD', 'hh', 'WDIR', 'WSPD', 'GST', 'WVHT', 'DPD',\n",
    "                'APD', 'PRES', 'ATMP', 'WTMP', 'DEWP', 't_arrive']\n",
    "\n",
    "X_real_time_predictions = prediction_df[cols_to_keep].values"
   ]
  },
  {
   "cell_type": "code",
   "execution_count": null,
   "metadata": {
    "collapsed": true
   },
   "outputs": [],
   "source": []
  },
  {
   "cell_type": "code",
   "execution_count": null,
   "metadata": {
    "collapsed": true
   },
   "outputs": [],
   "source": []
  },
  {
   "cell_type": "code",
   "execution_count": null,
   "metadata": {
    "collapsed": true
   },
   "outputs": [],
   "source": []
  },
  {
   "cell_type": "code",
   "execution_count": 21,
   "metadata": {
    "collapsed": true
   },
   "outputs": [],
   "source": [
    "get_prediction_data(46059)"
   ]
  },
  {
   "cell_type": "code",
   "execution_count": 22,
   "metadata": {
    "collapsed": true
   },
   "outputs": [],
   "source": [
    "data = pd.read_csv('../data/data_for_prediction_46059.csv', sep='\\s+', header=[1])"
   ]
  },
  {
   "cell_type": "code",
   "execution_count": 23,
   "metadata": {},
   "outputs": [],
   "source": [
    "cols = ['YY', 'MM','DD','hh','mm','WDIR','WSPD','GST','WVHT','DPD','APD','MWD',\n",
    "        'PRES','ATMP','WTMP','DEWP','VIS','PTDY','TIDE']\n",
    "data.columns = cols\n",
    "dates_temp = data[['YY','MM','DD','hh']].values\n",
    "new_date = [datetime.datetime(*x) for x in dates_temp]\n",
    "data['Date'] = new_date"
   ]
  },
  {
   "cell_type": "code",
   "execution_count": 26,
   "metadata": {},
   "outputs": [],
   "source": [
    "allcols = data.columns"
   ]
  },
  {
   "cell_type": "code",
   "execution_count": 28,
   "metadata": {},
   "outputs": [],
   "source": [
    "pred_test = data[data[allcols] != 'MM']"
   ]
  },
  {
   "cell_type": "code",
   "execution_count": 35,
   "metadata": {},
   "outputs": [],
   "source": [
    "cols_to_numerics = ['WDIR', 'WSPD', 'GST', 'WVHT', 'DPD','APD', 'MWD',\n",
    "                    'PRES', 'ATMP', 'WTMP', 'DEWP', 'VIS', 'PTDY', 'TIDE']\n",
    "pred_test[cols_to_numerics] = pred_test[cols_to_numerics].apply(pd.to_numeric)\n",
    "pred_test = pred_test.interpolate(method='linear', axis=0).bfill()"
   ]
  },
  {
   "cell_type": "code",
   "execution_count": 36,
   "metadata": {
    "collapsed": true
   },
   "outputs": [],
   "source": [
    "data_X = pred_test.copy()\n",
    "data_X.index = data_X['Date']\n",
    "\n",
    "tz = timezone('US/Pacific')\n",
    "data_X.index = data_X.index.tz_localize('UTC').tz_convert(tz)\n",
    "data_X['TempDate'] = data_X.index\n",
    "data_X['YY'] = data_X['TempDate'].apply(lambda x: x.year)\n",
    "data_X['MM'] = data_X['TempDate'].apply(lambda x: x.month)\n",
    "data_X['DD'] = data_X['TempDate'].apply(lambda x: x.day)\n",
    "data_X['hh'] = data_X['TempDate'].apply(lambda x: x.hour)\n",
    "\n",
    "data_X.index = data_X.index.tz_localize(None)"
   ]
  },
  {
   "cell_type": "code",
   "execution_count": 37,
   "metadata": {},
   "outputs": [
    {
     "data": {
      "text/html": [
       "<div>\n",
       "<style scoped>\n",
       "    .dataframe tbody tr th:only-of-type {\n",
       "        vertical-align: middle;\n",
       "    }\n",
       "\n",
       "    .dataframe tbody tr th {\n",
       "        vertical-align: top;\n",
       "    }\n",
       "\n",
       "    .dataframe thead th {\n",
       "        text-align: right;\n",
       "    }\n",
       "</style>\n",
       "<table border=\"1\" class=\"dataframe\">\n",
       "  <thead>\n",
       "    <tr style=\"text-align: right;\">\n",
       "      <th></th>\n",
       "      <th>YY</th>\n",
       "      <th>MM</th>\n",
       "      <th>DD</th>\n",
       "      <th>hh</th>\n",
       "      <th>mm</th>\n",
       "      <th>WDIR</th>\n",
       "      <th>WSPD</th>\n",
       "      <th>GST</th>\n",
       "      <th>WVHT</th>\n",
       "      <th>DPD</th>\n",
       "      <th>...</th>\n",
       "      <th>MWD</th>\n",
       "      <th>PRES</th>\n",
       "      <th>ATMP</th>\n",
       "      <th>WTMP</th>\n",
       "      <th>DEWP</th>\n",
       "      <th>VIS</th>\n",
       "      <th>PTDY</th>\n",
       "      <th>TIDE</th>\n",
       "      <th>Date</th>\n",
       "      <th>TempDate</th>\n",
       "    </tr>\n",
       "    <tr>\n",
       "      <th>Date</th>\n",
       "      <th></th>\n",
       "      <th></th>\n",
       "      <th></th>\n",
       "      <th></th>\n",
       "      <th></th>\n",
       "      <th></th>\n",
       "      <th></th>\n",
       "      <th></th>\n",
       "      <th></th>\n",
       "      <th></th>\n",
       "      <th></th>\n",
       "      <th></th>\n",
       "      <th></th>\n",
       "      <th></th>\n",
       "      <th></th>\n",
       "      <th></th>\n",
       "      <th></th>\n",
       "      <th></th>\n",
       "      <th></th>\n",
       "      <th></th>\n",
       "      <th></th>\n",
       "    </tr>\n",
       "  </thead>\n",
       "  <tbody>\n",
       "    <tr>\n",
       "      <th>2018-01-31 14:00:00</th>\n",
       "      <td>2018</td>\n",
       "      <td>1</td>\n",
       "      <td>31</td>\n",
       "      <td>14</td>\n",
       "      <td>20</td>\n",
       "      <td>90.0</td>\n",
       "      <td>4.0</td>\n",
       "      <td>6.0</td>\n",
       "      <td>1.9</td>\n",
       "      <td>12.000000</td>\n",
       "      <td>...</td>\n",
       "      <td>323.0</td>\n",
       "      <td>1023.1</td>\n",
       "      <td>12.8</td>\n",
       "      <td>14.0</td>\n",
       "      <td>9.4</td>\n",
       "      <td>NaN</td>\n",
       "      <td>-1.70</td>\n",
       "      <td>NaN</td>\n",
       "      <td>2018-01-31 22:00:00</td>\n",
       "      <td>2018-01-31 14:00:00-08:00</td>\n",
       "    </tr>\n",
       "    <tr>\n",
       "      <th>2018-01-31 14:00:00</th>\n",
       "      <td>2018</td>\n",
       "      <td>1</td>\n",
       "      <td>31</td>\n",
       "      <td>14</td>\n",
       "      <td>10</td>\n",
       "      <td>90.0</td>\n",
       "      <td>3.0</td>\n",
       "      <td>5.0</td>\n",
       "      <td>1.9</td>\n",
       "      <td>12.000000</td>\n",
       "      <td>...</td>\n",
       "      <td>323.0</td>\n",
       "      <td>1023.7</td>\n",
       "      <td>12.8</td>\n",
       "      <td>14.0</td>\n",
       "      <td>9.4</td>\n",
       "      <td>NaN</td>\n",
       "      <td>-1.70</td>\n",
       "      <td>NaN</td>\n",
       "      <td>2018-01-31 22:00:00</td>\n",
       "      <td>2018-01-31 14:00:00-08:00</td>\n",
       "    </tr>\n",
       "    <tr>\n",
       "      <th>2018-01-31 14:00:00</th>\n",
       "      <td>2018</td>\n",
       "      <td>1</td>\n",
       "      <td>31</td>\n",
       "      <td>14</td>\n",
       "      <td>0</td>\n",
       "      <td>90.0</td>\n",
       "      <td>2.0</td>\n",
       "      <td>3.0</td>\n",
       "      <td>1.9</td>\n",
       "      <td>12.000000</td>\n",
       "      <td>...</td>\n",
       "      <td>323.0</td>\n",
       "      <td>1023.9</td>\n",
       "      <td>12.9</td>\n",
       "      <td>14.0</td>\n",
       "      <td>9.3</td>\n",
       "      <td>NaN</td>\n",
       "      <td>-1.70</td>\n",
       "      <td>NaN</td>\n",
       "      <td>2018-01-31 22:00:00</td>\n",
       "      <td>2018-01-31 14:00:00-08:00</td>\n",
       "    </tr>\n",
       "    <tr>\n",
       "      <th>2018-01-31 13:00:00</th>\n",
       "      <td>2018</td>\n",
       "      <td>1</td>\n",
       "      <td>31</td>\n",
       "      <td>13</td>\n",
       "      <td>50</td>\n",
       "      <td>80.0</td>\n",
       "      <td>3.0</td>\n",
       "      <td>5.0</td>\n",
       "      <td>1.9</td>\n",
       "      <td>12.000000</td>\n",
       "      <td>...</td>\n",
       "      <td>323.0</td>\n",
       "      <td>1023.9</td>\n",
       "      <td>12.8</td>\n",
       "      <td>14.0</td>\n",
       "      <td>9.2</td>\n",
       "      <td>NaN</td>\n",
       "      <td>-1.55</td>\n",
       "      <td>NaN</td>\n",
       "      <td>2018-01-31 21:00:00</td>\n",
       "      <td>2018-01-31 13:00:00-08:00</td>\n",
       "    </tr>\n",
       "    <tr>\n",
       "      <th>2018-01-31 13:00:00</th>\n",
       "      <td>2018</td>\n",
       "      <td>1</td>\n",
       "      <td>31</td>\n",
       "      <td>13</td>\n",
       "      <td>40</td>\n",
       "      <td>90.0</td>\n",
       "      <td>4.0</td>\n",
       "      <td>5.0</td>\n",
       "      <td>1.9</td>\n",
       "      <td>12.166667</td>\n",
       "      <td>...</td>\n",
       "      <td>323.0</td>\n",
       "      <td>1023.8</td>\n",
       "      <td>12.9</td>\n",
       "      <td>14.0</td>\n",
       "      <td>9.5</td>\n",
       "      <td>NaN</td>\n",
       "      <td>-1.40</td>\n",
       "      <td>NaN</td>\n",
       "      <td>2018-01-31 21:00:00</td>\n",
       "      <td>2018-01-31 13:00:00-08:00</td>\n",
       "    </tr>\n",
       "  </tbody>\n",
       "</table>\n",
       "<p>5 rows × 21 columns</p>\n",
       "</div>"
      ],
      "text/plain": [
       "                       YY  MM  DD  hh  mm  WDIR  WSPD  GST  WVHT        DPD  \\\n",
       "Date                                                                          \n",
       "2018-01-31 14:00:00  2018   1  31  14  20  90.0   4.0  6.0   1.9  12.000000   \n",
       "2018-01-31 14:00:00  2018   1  31  14  10  90.0   3.0  5.0   1.9  12.000000   \n",
       "2018-01-31 14:00:00  2018   1  31  14   0  90.0   2.0  3.0   1.9  12.000000   \n",
       "2018-01-31 13:00:00  2018   1  31  13  50  80.0   3.0  5.0   1.9  12.000000   \n",
       "2018-01-31 13:00:00  2018   1  31  13  40  90.0   4.0  5.0   1.9  12.166667   \n",
       "\n",
       "                               ...               MWD    PRES  ATMP  WTMP  \\\n",
       "Date                           ...                                         \n",
       "2018-01-31 14:00:00            ...             323.0  1023.1  12.8  14.0   \n",
       "2018-01-31 14:00:00            ...             323.0  1023.7  12.8  14.0   \n",
       "2018-01-31 14:00:00            ...             323.0  1023.9  12.9  14.0   \n",
       "2018-01-31 13:00:00            ...             323.0  1023.9  12.8  14.0   \n",
       "2018-01-31 13:00:00            ...             323.0  1023.8  12.9  14.0   \n",
       "\n",
       "                     DEWP  VIS  PTDY  TIDE                Date  \\\n",
       "Date                                                             \n",
       "2018-01-31 14:00:00   9.4  NaN -1.70   NaN 2018-01-31 22:00:00   \n",
       "2018-01-31 14:00:00   9.4  NaN -1.70   NaN 2018-01-31 22:00:00   \n",
       "2018-01-31 14:00:00   9.3  NaN -1.70   NaN 2018-01-31 22:00:00   \n",
       "2018-01-31 13:00:00   9.2  NaN -1.55   NaN 2018-01-31 21:00:00   \n",
       "2018-01-31 13:00:00   9.5  NaN -1.40   NaN 2018-01-31 21:00:00   \n",
       "\n",
       "                                     TempDate  \n",
       "Date                                           \n",
       "2018-01-31 14:00:00 2018-01-31 14:00:00-08:00  \n",
       "2018-01-31 14:00:00 2018-01-31 14:00:00-08:00  \n",
       "2018-01-31 14:00:00 2018-01-31 14:00:00-08:00  \n",
       "2018-01-31 13:00:00 2018-01-31 13:00:00-08:00  \n",
       "2018-01-31 13:00:00 2018-01-31 13:00:00-08:00  \n",
       "\n",
       "[5 rows x 21 columns]"
      ]
     },
     "execution_count": 37,
     "metadata": {},
     "output_type": "execute_result"
    }
   ],
   "source": [
    "data_X.head()"
   ]
  },
  {
   "cell_type": "code",
   "execution_count": 19,
   "metadata": {},
   "outputs": [],
   "source": [
    "cols_to_keep = ['YY', 'MM', 'DD', 'hh', 'WDIR', 'WSPD', 'GST', 'WVHT', 'DPD',\n",
    "                'APD', 'PRES', 'ATMP', 'WTMP', 'DEWP', 't_arrive']\n",
    "\n",
    "X_real_time_predictions = prediction_df[cols_to_keep].values"
   ]
  },
  {
   "cell_type": "code",
   "execution_count": null,
   "metadata": {
    "collapsed": true
   },
   "outputs": [],
   "source": []
  },
  {
   "cell_type": "code",
   "execution_count": 5,
   "metadata": {},
   "outputs": [
    {
     "data": {
      "text/plain": [
       "array([[  2.01800000e+03,   1.00000000e+00,   3.10000000e+01, ...,\n",
       "          1.26000000e+01,              nan,   1.34469338e+01],\n",
       "       [  2.01800000e+03,   1.00000000e+00,   3.10000000e+01, ...,\n",
       "          1.25000000e+01,              nan,   1.31413216e+01],\n",
       "       [  2.01800000e+03,   1.00000000e+00,   3.10000000e+01, ...,\n",
       "          1.24000000e+01,              nan,   1.34469338e+01],\n",
       "       ..., \n",
       "       [  2.01700000e+03,   1.20000000e+01,   1.60000000e+01, ...,\n",
       "          1.25000000e+01,              nan,   1.65205186e+01],\n",
       "       [  2.01700000e+03,   1.20000000e+01,   1.60000000e+01, ...,\n",
       "          1.25000000e+01,              nan,   1.58415932e+01],\n",
       "       [  2.01700000e+03,   1.20000000e+01,   1.60000000e+01, ...,\n",
       "          1.25000000e+01,              nan,   1.60616153e+01]])"
      ]
     },
     "execution_count": 5,
     "metadata": {},
     "output_type": "execute_result"
    }
   ],
   "source": [
    "X_real_time_predictions"
   ]
  },
  {
   "cell_type": "code",
   "execution_count": null,
   "metadata": {
    "collapsed": true
   },
   "outputs": [],
   "source": []
  },
  {
   "cell_type": "code",
   "execution_count": null,
   "metadata": {
    "collapsed": true
   },
   "outputs": [],
   "source": []
  },
  {
   "cell_type": "code",
   "execution_count": null,
   "metadata": {
    "collapsed": true
   },
   "outputs": [],
   "source": []
  },
  {
   "cell_type": "code",
   "execution_count": null,
   "metadata": {
    "collapsed": true
   },
   "outputs": [],
   "source": []
  },
  {
   "cell_type": "code",
   "execution_count": null,
   "metadata": {
    "collapsed": true
   },
   "outputs": [],
   "source": []
  },
  {
   "cell_type": "code",
   "execution_count": null,
   "metadata": {
    "collapsed": true
   },
   "outputs": [],
   "source": []
  },
  {
   "cell_type": "code",
   "execution_count": null,
   "metadata": {
    "collapsed": true
   },
   "outputs": [],
   "source": []
  },
  {
   "cell_type": "code",
   "execution_count": null,
   "metadata": {
    "collapsed": true
   },
   "outputs": [],
   "source": []
  },
  {
   "cell_type": "code",
   "execution_count": null,
   "metadata": {
    "collapsed": true
   },
   "outputs": [],
   "source": []
  },
  {
   "cell_type": "code",
   "execution_count": null,
   "metadata": {
    "collapsed": true
   },
   "outputs": [],
   "source": []
  }
 ],
 "metadata": {
  "kernelspec": {
   "display_name": "Python 3",
   "language": "python",
   "name": "python3"
  },
  "language_info": {
   "codemirror_mode": {
    "name": "ipython",
    "version": 3
   },
   "file_extension": ".py",
   "mimetype": "text/x-python",
   "name": "python",
   "nbconvert_exporter": "python",
   "pygments_lexer": "ipython3",
   "version": "3.6.3"
  }
 },
 "nbformat": 4,
 "nbformat_minor": 2
}
